{
  "cells": [
    {
      "cell_type": "markdown",
      "metadata": {
        "id": "view-in-github",
        "colab_type": "text"
      },
      "source": [
        "<a href=\"https://colab.research.google.com/github/t-sasatani/KiCad-coil-maker/blob/master/examples/kicad_helix_coil.ipynb\" target=\"_parent\"><img src=\"https://colab.research.google.com/assets/colab-badge.svg\" alt=\"Open In Colab\"/></a>"
      ]
    },
    {
      "cell_type": "code",
      "source": [
        "!pip install kicad-coil-maker"
      ],
      "metadata": {
        "id": "L0AvYaUO6eJW"
      },
      "execution_count": null,
      "outputs": []
    },
    {
      "cell_type": "code",
      "execution_count": null,
      "metadata": {
        "id": "NXxYYW2c5s-R"
      },
      "outputs": [],
      "source": [
        "import kicad_coil_maker.kicad_draw as coilmaker\n",
        "import numpy as np"
      ]
    },
    {
      "cell_type": "markdown",
      "metadata": {
        "id": "3HJdlvp95s-S"
      },
      "source": [
        "### Helix coil generator"
      ]
    },
    {
      "cell_type": "code",
      "execution_count": null,
      "metadata": {
        "id": "qilR2KCC5s-S"
      },
      "outputs": [],
      "source": [
        "Center = [150, 100]\n",
        "track_width = 0.5\n",
        "Connectwidth = 0.2\n",
        "radius=10\n",
        "Portgap=0.7\n",
        "tab_gap=0.55\n",
        "angle_step=0\n",
        "Nelement=100\n",
        "layerindexlist=[0,1,2,3,4,5]\n",
        "netnumber=1 # find from KiCad PCB file\n",
        "\n",
        "kicad_draw = coilmaker.kicad_draw(Nlayer=6,\n",
        "                                  net_number=netnumber,\n",
        "                                  track_width=track_width,\n",
        "                                  connect_width=Connectwidth,\n",
        "                                  Nelement=Nelement)\n",
        "\n",
        "kicad_draw.writehelix(x0=Center[0],\n",
        "                      y0=Center[1],\n",
        "                      radius=radius,\n",
        "                      port_gap=Portgap,\n",
        "                      tab_gap=tab_gap,\n",
        "                      angle_step=angle_step,\n",
        "                      layerindexlist=layerindexlist)"
      ]
    }
  ],
  "metadata": {
    "kernelspec": {
      "display_name": "base",
      "language": "python",
      "name": "python3"
    },
    "language_info": {
      "codemirror_mode": {
        "name": "ipython",
        "version": 3
      },
      "file_extension": ".py",
      "mimetype": "text/x-python",
      "name": "python",
      "nbconvert_exporter": "python",
      "pygments_lexer": "ipython3",
      "version": "3.10.11"
    },
    "orig_nbformat": 4,
    "vscode": {
      "interpreter": {
        "hash": "b84e72b86d3c87ace3b633d3ff778dfa95ae8955c62c36fb54c04442d2ad7f88"
      }
    },
    "colab": {
      "provenance": [],
      "include_colab_link": true
    }
  },
  "nbformat": 4,
  "nbformat_minor": 0
}