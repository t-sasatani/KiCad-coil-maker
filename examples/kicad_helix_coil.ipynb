{
  "cells": [
    {
      "cell_type": "markdown",
      "metadata": {
        "colab_type": "text",
        "id": "view-in-github"
      },
      "source": [
        "<a href=\"https://colab.research.google.com/github/t-sasatani/KiCad-coil-maker/blob/master/examples/kicad_helix_coil.ipynb\" target=\"_parent\"><img src=\"https://colab.research.google.com/assets/colab-badge.svg\" alt=\"Open In Colab\"/></a>"
      ]
    },
    {
      "cell_type": "code",
      "execution_count": 1,
      "metadata": {
        "id": "L0AvYaUO6eJW"
      },
      "outputs": [],
      "source": [
        "import sys\n",
        "IN_COLAB = 'google.colab' in sys.modules\n",
        "\n",
        "if IN_COLAB:\n",
        "    !pip install kicad-draw"
      ]
    },
    {
      "cell_type": "code",
      "execution_count": 2,
      "metadata": {
        "id": "NXxYYW2c5s-R"
      },
      "outputs": [],
      "source": [
        "from kicad_draw.PCBmodule import PCBdraw"
      ]
    },
    {
      "cell_type": "markdown",
      "metadata": {
        "id": "3HJdlvp95s-S"
      },
      "source": [
        "### Helix coil generator"
      ]
    },
    {
      "cell_type": "code",
      "execution_count": 4,
      "metadata": {
        "id": "qilR2KCC5s-S"
      },
      "outputs": [
        {
          "name": "stdout",
          "output_type": "stream",
          "text": [
            "  (segment (start 160.92324887537566 98.70283616817133) (end 160.98278225667798 99.38478141900674) (width 0.5) (layer \"F.Cu\") (net 1) (tstamp 0))\n",
            "  (segment (start 160.98278225667798 99.38478141900674) (end 160.99978290317495 100.06910921081776) (width 0.5) (layer \"F.Cu\") (net 1) (tstamp 0))\n",
            "  (segment (start 160.99978290317495 100.06910921081776) (end 160.9741849769057 100.75316936518794) (width 0.5) (layer \"F.Cu\") (net 1) (tstamp 0))\n",
            "  (segment (start 160.9741849769057 100.75316936518794) (end 160.90608761029253 101.43431274017341) (width 0.5) (layer \"F.Cu\") (net 1) (tstamp 0))\n",
            "  (segment (start 160.90608761029253 101.43431274017341) (end 160.79575452223364 102.10990148956586) (width 0.5) (layer \"F.Cu\") (net 1) (tstamp 0))\n",
            "  (segment (start 160.79575452223364 102.10990148956586) (end 160.64361299680553 102.77731927841079) (width 0.5) (layer \"F.Cu\") (net 1) (tstamp 0))\n",
            "  (segment (start 160.64361299680553 102.77731927841079) (end 160.45025222853135 103.43398141521988) (width 0.5) (layer \"F.Cu\") (net 1) (tstamp 0))\n",
            "  (segment (start 160.45025222853135 103.43398141521988) (end 160.2164210406224 104.07734486163825) (width 0.5) (layer \"F.Cu\") (net 1) (tstamp 0))\n",
            "  (segment (start 160.2164210406224 104.07734486163825) (end 159.9430249850301 104.70491808080303) (width 0.5) (layer \"F.Cu\") (net 1) (tstamp 0))\n",
            "  (segment (start 159.9430249850301 104.70491808080303) (end 159.6311228355385 105.31427068625308) (width 0.5) (layer \"F.Cu\") (net 1) (tstamp 0))\n",
            "  (segment (start 159.6311228355385 105.31427068625308) (end 159.28192248747865 105.90304285402354) (width 0.5) (layer \"F.Cu\") (net 1) (tstamp 0))\n",
            "  (segment (start 159.28192248747865 105.90304285402354) (end 158.89677627994374 106.4689544614745) (width 0.5) (layer \"F.Cu\") (net 1) (tstamp 0))\n",
            "  (segment (start 158.89677627994374 106.4689544614745) (end 158.47717575862077 107.00981391746261) (width 0.5) (layer \"F.Cu\") (net 1) (tstamp 0))\n",
            "  (segment (start 158.47717575862077 107.00981391746261) (end 158.02474589952044 107.52352664965903) (width 0.5) (layer \"F.Cu\") (net 1) (tstamp 0))\n",
            "  (segment (start 158.02474589952044 107.52352664965903) (end 157.54123881597485 108.00810321614514) (width 0.5) (layer \"F.Cu\") (net 1) (tstamp 0))\n",
            "  (segment (start 157.54123881597485 108.00810321614514) (end 157.02852697327373 108.46166700987243) (width 0.5) (layer \"F.Cu\") (net 1) (tstamp 0))\n",
            "  (segment (start 157.02852697327373 108.46166700987243) (end 156.48859593721707 108.88246152614973) (width 0.5) (layer \"F.Cu\") (net 1) (tstamp 0))\n",
            "  (segment (start 156.48859593721707 108.88246152614973) (end 155.92353668466603 109.26885716501317) (width 0.5) (layer \"F.Cu\") (net 1) (tstamp 0))\n",
            "  (segment (start 155.92353668466603 109.26885716501317) (end 155.3355375058713 109.61935754213559) (width 0.5) (layer \"F.Cu\") (net 1) (tstamp 0))\n",
            "  (segment (start 155.3355375058713 109.61935754213559) (end 154.7268755299385 109.93260528383509) (width 0.5) (layer \"F.Cu\") (net 1) (tstamp 0))\n",
            "  (segment (start 154.7268755299385 109.93260528383509) (end 154.09990790624957 110.20738728374074) (width 0.5) (layer \"F.Cu\") (net 1) (tstamp 0))\n",
            "  (segment (start 154.09990790624957 110.20738728374074) (end 153.45706267599184 110.44263940075804) (width 0.5) (layer \"F.Cu\") (net 1) (tstamp 0))\n",
            "  (segment (start 153.45706267599184 110.44263940075804) (end 152.80082936914593 110.63745058014041) (width 0.5) (layer \"F.Cu\") (net 1) (tstamp 0))\n",
            "  (segment (start 152.80082936914593 110.63745058014041) (end 152.1337493633481 110.79106638170721) (width 0.5) (layer \"F.Cu\") (net 1) (tstamp 0))\n",
            "  (segment (start 152.1337493633481 110.79106638170721) (end 151.4584060419631 110.90289190154454) (width 0.5) (layer \"F.Cu\") (net 1) (tstamp 0))\n",
            "  (segment (start 151.4584060419631 110.90289190154454) (end 150.77741478948266 110.97249407587417) (width 0.5) (layer \"F.Cu\") (net 1) (tstamp 0))\n",
            "  (segment (start 150.77741478948266 110.97249407587417) (end 150.09341286299434 110.99960335816829) (width 0.5) (layer \"F.Cu\") (net 1) (tstamp 0))\n",
            "  (segment (start 150.09341286299434 110.99960335816829) (end 149.40904917894437 110.98411476301544) (width 0.5) (layer \"F.Cu\") (net 1) (tstamp 0))\n",
            "  (segment (start 149.40904917894437 110.98411476301544) (end 148.72697405474813 110.92608827269466) (width 0.5) (layer \"F.Cu\") (net 1) (tstamp 0))\n",
            "  (segment (start 148.72697405474813 110.92608827269466) (end 148.04982894497488 110.82574860488374) (width 0.5) (layer \"F.Cu\") (net 1) (tstamp 0))\n",
            "  (segment (start 148.04982894497488 110.82574860488374) (end 147.38023621185533 110.68348434240093) (width 0.5) (layer \"F.Cu\") (net 1) (tstamp 0))\n",
            "  (segment (start 147.38023621185533 110.68348434240093) (end 146.72078896972795 110.49984642835038) (width 0.5) (layer \"F.Cu\") (net 1) (tstamp 0))\n",
            "  (segment (start 146.72078896972795 110.49984642835038) (end 146.07404104275238 110.27554603249907) (width 0.5) (layer \"F.Cu\") (net 1) (tstamp 0))\n",
            "  (segment (start 146.07404104275238 110.27554603249907) (end 145.44249707478127 110.01145179714824) (width 0.5) (layer \"F.Cu\") (net 1) (tstamp 0))\n",
            "  (segment (start 145.44249707478127 110.01145179714824) (end 144.82860282969116 109.70858647316496) (width 0.5) (layer \"F.Cu\") (net 1) (tstamp 0))\n",
            "  (segment (start 144.82860282969116 109.70858647316496) (end 144.2347357197365 109.36812295920147) (width 0.5) (layer \"F.Cu\") (net 1) (tstamp 0))\n",
            "  (segment (start 144.2347357197365 109.36812295920147) (end 143.6631955986071 108.99137975944113) (width 0.5) (layer \"F.Cu\") (net 1) (tstamp 0))\n",
            "  (segment (start 143.6631955986071 108.99137975944113) (end 143.11619585484465 108.5798158774616) (width 0.5) (layer \"F.Cu\") (net 1) (tstamp 0))\n",
            "  (segment (start 143.11619585484465 108.5798158774616) (end 142.59585484011052 108.13502516598967) (width 0.5) (layer \"F.Cu\") (net 1) (tstamp 0))\n",
            "  (segment (start 142.59585484011052 108.13502516598967) (end 142.1041876655005 107.65873015442935) (width 0.5) (layer \"F.Cu\") (net 1) (tstamp 0))\n",
            "  (segment (start 142.1041876655005 107.65873015442935) (end 141.6430983976765 107.15277537806709) (width 0.5) (layer \"F.Cu\") (net 1) (tstamp 0))\n",
            "  (segment (start 141.6430983976765 107.15277537806709) (end 141.21437268503723 106.61912023478803) (width 0.5) (layer \"F.Cu\") (net 1) (tstamp 0))\n",
            "  (segment (start 141.21437268503723 106.61912023478803) (end 140.81967084248416 106.05983139696677) (width 0.5) (layer \"F.Cu\") (net 1) (tstamp 0))\n",
            "  (segment (start 140.81967084248416 106.05983139696677) (end 140.4605214215631 105.47707480791922) (width 0.5) (layer \"F.Cu\") (net 1) (tstamp 0))\n",
            "  (segment (start 140.4605214215631 105.47707480791922) (end 140.13831529088264 104.87310729391024) (width 0.5) (layer \"F.Cu\") (net 1) (tstamp 0))\n",
            "  (segment (start 140.13831529088264 104.87310729391024) (end 139.85430024973346 104.25026782420134) (width 0.5) (layer \"F.Cu\") (net 1) (tstamp 0))\n",
            "  (segment (start 139.85430024973346 104.25026782420134) (end 139.6095761957683 103.61096845298538) (width 0.5) (layer \"F.Cu\") (net 1) (tstamp 0))\n",
            "  (segment (start 139.6095761957683 103.61096845298538) (end 139.40509086545737 102.95768497828709) (width 0.5) (layer \"F.Cu\") (net 1) (tstamp 0))\n",
            "  (segment (start 139.40509086545737 102.95768497828709) (end 139.24163616381358 102.29294735400455) (width 0.5) (layer \"F.Cu\") (net 1) (tstamp 0))\n",
            "  (segment (start 139.24163616381358 102.29294735400455) (end 139.11984509760296 101.61932989222261) (width 0.5) (layer \"F.Cu\") (net 1) (tstamp 0))\n",
            "  (segment (start 139.11984509760296 101.61932989222261) (end 139.04018932391563 100.93944129374157) (width 0.5) (layer \"F.Cu\") (net 1) (tstamp 0))\n",
            "  (segment (start 139.04018932391563 100.93944129374157) (end 139.00297732359172 100.25591454542945) (width 0.5) (layer \"F.Cu\") (net 1) (tstamp 0))\n",
            "  (segment (start 139.00297732359172 100.25591454542945) (end 139.0083532065758 99.57139672352238) (width 0.5) (layer \"F.Cu\") (net 1) (tstamp 0))\n",
            "  (segment (start 139.0083532065758 99.57139672352238) (end 139.05629615382577 98.8885387423614) (width 0.5) (layer \"F.Cu\") (net 1) (tstamp 0))\n",
            "  (segment (start 139.05629615382577 98.8885387423614) (end 139.14662049793853 98.20998508826554) (width 0.5) (layer \"F.Cu\") (net 1) (tstamp 0))\n",
            "  (segment (start 139.14662049793853 98.20998508826554) (end 139.27897644217902 97.53836357829846) (width 0.5) (layer \"F.Cu\") (net 1) (tstamp 0))\n",
            "  (segment (start 139.27897644217902 97.53836357829846) (end 139.45285141512915 96.87627518358983) (width 0.5) (layer \"F.Cu\") (net 1) (tstamp 0))\n",
            "  (segment (start 139.45285141512915 96.87627518358983) (end 139.66757205570963 96.22628395662214) (width 0.5) (layer \"F.Cu\") (net 1) (tstamp 0))\n",
            "  (segment (start 139.66757205570963 96.22628395662214) (end 139.92230682088797 95.59090710149144) (width 0.5) (layer \"F.Cu\") (net 1) (tstamp 0))\n",
            "  (segment (start 139.92230682088797 95.59090710149144) (end 140.21606920597347 94.97260522559655) (width 0.5) (layer \"F.Cu\") (net 1) (tstamp 0))\n",
            "  (segment (start 140.21606920597347 94.97260522559655) (end 140.54772156502827 94.37377281050897) (width 0.5) (layer \"F.Cu\") (net 1) (tstamp 0))\n",
            "  (segment (start 140.54772156502827 94.37377281050897) (end 140.91597951659915 93.79672893892634) (width 0.5) (layer \"F.Cu\") (net 1) (tstamp 0))\n",
            "  (segment (start 140.91597951659915 93.79672893892634) (end 141.31941691770817 93.2437083136214) (width 0.5) (layer \"F.Cu\") (net 1) (tstamp 0))\n",
            "  (segment (start 141.31941691770817 93.2437083136214) (end 141.75647138683928 92.71685260316666) (width 0.5) (layer \"F.Cu\") (net 1) (tstamp 0))\n",
            "  (segment (start 141.75647138683928 92.71685260316666) (end 142.2254503545327 92.21820214795034) (width 0.5) (layer \"F.Cu\") (net 1) (tstamp 0))\n",
            "  (segment (start 142.2254503545327 92.21820214795034) (end 142.7245376181546 91.74968805860331) (width 0.5) (layer \"F.Cu\") (net 1) (tstamp 0))\n",
            "  (segment (start 142.7245376181546 91.74968805860331) (end 143.25180037545755 91.31312473743722) (width 0.5) (layer \"F.Cu\") (net 1) (tstamp 0))\n",
            "  (segment (start 143.25180037545755 91.31312473743722) (end 143.80519670969355 90.91020285185591) (width 0.5) (layer \"F.Cu\") (net 1) (tstamp 0))\n",
            "  (segment (start 143.80519670969355 90.91020285185591) (end 144.38258349729193 90.5424827869518) (width 0.5) (layer \"F.Cu\") (net 1) (tstamp 0))\n",
            "  (segment (start 144.38258349729193 90.5424827869518) (end 144.98172470747804 90.2113886026432) (width 0.5) (layer \"F.Cu\") (net 1) (tstamp 0))\n",
            "  (segment (start 144.98172470747804 90.2113886026432) (end 145.60030006169146 89.91820251875451) (width 0.5) (layer \"F.Cu\") (net 1) (tstamp 0))\n",
            "  (segment (start 145.60030006169146 89.91820251875451) (end 146.2359140192684 89.66405994939697) (width 0.5) (layer \"F.Cu\") (net 1) (tstamp 0))\n",
            "  (segment (start 146.2359140192684 89.66405994939697) (end 146.88610505458948 89.44994510587993) (width 0.5) (layer \"F.Cu\") (net 1) (tstamp 0))\n",
            "  (segment (start 146.88610505458948 89.44994510587993) (end 147.5483551897661 89.27668718518137) (width 0.5) (layer \"F.Cu\") (net 1) (tstamp 0))\n",
            "  (segment (start 147.5483551897661 89.27668718518137) (end 148.2200997459477 89.1449571587384) (width 0.5) (layer \"F.Cu\") (net 1) (tstamp 0))\n",
            "  (segment (start 148.2200997459477 89.1449571587384) (end 148.8987372754867 89.05526517399359) (width 0.5) (layer \"F.Cu\") (net 1) (tstamp 0))\n",
            "  (segment (start 148.8987372754867 89.05526517399359) (end 149.5816396364972 89.00795857876028) (width 0.5) (layer \"F.Cu\") (net 1) (tstamp 0))\n",
            "  (segment (start 149.5816396364972 89.00795857876028) (end 150.26616217079143 89.00322057605776) (width 0.5) (layer \"F.Cu\") (net 1) (tstamp 0))\n",
            "  (segment (start 150.26616217079143 89.00322057605776) (end 150.94965394577892 89.04106951462569) (width 0.5) (layer \"F.Cu\") (net 1) (tstamp 0))\n",
            "  (segment (start 150.94965394577892 89.04106951462569) (end 151.62946802066375 89.12135881786543) (width 0.5) (layer \"F.Cu\") (net 1) (tstamp 0))\n",
            "  (segment (start 151.62946802066375 89.12135881786543) (end 152.3029716971835 89.24377755148343) (width 0.5) (layer \"F.Cu\") (net 1) (tstamp 0))\n",
            "  (segment (start 152.3029716971835 89.24377755148343) (end 152.9675567151911 89.40785162763832) (width 0.5) (layer \"F.Cu\") (net 1) (tstamp 0))\n",
            "  (segment (start 152.9675567151911 89.40785162763832) (end 153.62064935359606 89.61294564092859) (width 0.5) (layer \"F.Cu\") (net 1) (tstamp 0))\n",
            "  (segment (start 153.62064935359606 89.61294564092859) (end 154.25972039754703 89.85826532911051) (width 0.5) (layer \"F.Cu\") (net 1) (tstamp 0))\n",
            "  (segment (start 154.25972039754703 89.85826532911051) (end 154.8822949332563 90.14286064901688) (width 0.5) (layer \"F.Cu\") (net 1) (tstamp 0))\n",
            "  (segment (start 154.8822949332563 90.14286064901688) (end 155.48596193253408 90.46562945576443) (width 0.5) (layer \"F.Cu\") (net 1) (tstamp 0))\n",
            "  (segment (start 155.48596193253408 90.46562945576443) (end 156.06838358991436 90.82532177100157) (width 0.5) (layer \"F.Cu\") (net 1) (tstamp 0))\n",
            "  (segment (start 156.06838358991436 90.82532177100157) (end 156.6273043762135 91.22054462366704) (width 0.5) (layer \"F.Cu\") (net 1) (tstamp 0))\n",
            "  (segment (start 156.6273043762135 91.22054462366704) (end 157.16055977345906 91.6497674445127) (width 0.5) (layer \"F.Cu\") (net 1) (tstamp 0))\n",
            "  (segment (start 157.16055977345906 91.6497674445127) (end 157.66608465736255 92.11132799349912) (width 0.5) (layer \"F.Cu\") (net 1) (tstamp 0))\n",
            "  (segment (start 157.66608465736255 92.11132799349912) (end 158.1419212948721 92.60343879710928) (width 0.5) (layer \"F.Cu\") (net 1) (tstamp 0))\n",
            "  (segment (start 158.1419212948721 92.60343879710928) (end 158.58622692583455 93.1241940706508) (width 0.5) (layer \"F.Cu\") (net 1) (tstamp 0))\n",
            "  (segment (start 158.58622692583455 93.1241940706508) (end 158.99728089940456 93.6715770987386) (width 0.5) (layer \"F.Cu\") (net 1) (tstamp 0))\n",
            "  (segment (start 158.99728089940456 93.6715770987386) (end 159.37349133756433 94.24346804537606) (width 0.5) (layer \"F.Cu\") (net 1) (tstamp 0))\n",
            "  (segment (start 159.37349133756433 94.24346804537606) (end 159.71340129994817 94.83765216338871) (width 0.5) (layer \"F.Cu\") (net 1) (tstamp 0))\n",
            "  (segment (start 159.71340129994817 94.83765216338871) (end 160.0156944260975 95.45182837141789) (width 0.5) (layer \"F.Cu\") (net 1) (tstamp 0))\n",
            "  (segment (start 160.0156944260975 95.45182837141789) (end 160.27920003329578 96.08361816525863) (width 0.5) (layer \"F.Cu\") (net 1) (tstamp 0))\n",
            "  (segment (start 160.27920003329578 96.08361816525863) (end 160.5028976502408 96.73057482903091) (width 0.5) (layer \"F.Cu\") (net 1) (tstamp 0))\n",
            "  (segment (start 160.5028976502408 96.73057482903091) (end 160.68592096899752 97.39019291051255) (width 0.5) (layer \"F.Cu\") (net 1) (tstamp 0))\n",
            "  (segment (start 160.68592096899752 97.39019291051255) (end 160.82756119992615 98.05991792393878) (width 0.5) (layer \"F.Cu\") (net 1) (tstamp 0))\n"
          ]
        },
        {
          "ename": "TypeError",
          "evalue": "PCBdraw.drawline() missing 2 required positional arguments: 'self' and 'net_number'",
          "output_type": "error",
          "traceback": [
            "\u001b[1;31m---------------------------------------------------------------------------\u001b[0m",
            "\u001b[1;31mTypeError\u001b[0m                                 Traceback (most recent call last)",
            "\u001b[1;32mc:\\Users\\Takuya\\GitHub\\KiCad-draw\\examples\\kicad_helix_coil.ipynb Cell 5\u001b[0m line \u001b[0;36m1\n\u001b[0;32m     <a href='vscode-notebook-cell:/c%3A/Users/Takuya/GitHub/KiCad-draw/examples/kicad_helix_coil.ipynb#X15sZmlsZQ%3D%3D?line=11'>12</a>\u001b[0m netnumber\u001b[39m=\u001b[39m\u001b[39m1\u001b[39m \u001b[39m# find from KiCad PCB file\u001b[39;00m\n\u001b[0;32m     <a href='vscode-notebook-cell:/c%3A/Users/Takuya/GitHub/KiCad-draw/examples/kicad_helix_coil.ipynb#X15sZmlsZQ%3D%3D?line=13'>14</a>\u001b[0m kicad_draw \u001b[39m=\u001b[39m PCBdraw(stackup\u001b[39m=\u001b[39m\u001b[39m'\u001b[39m\u001b[39mdefault_6layer\u001b[39m\u001b[39m'\u001b[39m)\n\u001b[1;32m---> <a href='vscode-notebook-cell:/c%3A/Users/Takuya/GitHub/KiCad-draw/examples/kicad_helix_coil.ipynb#X15sZmlsZQ%3D%3D?line=14'>15</a>\u001b[0m kicad_draw\u001b[39m.\u001b[39;49mdraw_helix(x0\u001b[39m=\u001b[39;49mCenter[\u001b[39m0\u001b[39;49m],\n\u001b[0;32m     <a href='vscode-notebook-cell:/c%3A/Users/Takuya/GitHub/KiCad-draw/examples/kicad_helix_coil.ipynb#X15sZmlsZQ%3D%3D?line=15'>16</a>\u001b[0m                     y0\u001b[39m=\u001b[39;49mCenter[\u001b[39m1\u001b[39;49m],\n\u001b[0;32m     <a href='vscode-notebook-cell:/c%3A/Users/Takuya/GitHub/KiCad-draw/examples/kicad_helix_coil.ipynb#X15sZmlsZQ%3D%3D?line=16'>17</a>\u001b[0m                     radius\u001b[39m=\u001b[39;49mradius,\n\u001b[0;32m     <a href='vscode-notebook-cell:/c%3A/Users/Takuya/GitHub/KiCad-draw/examples/kicad_helix_coil.ipynb#X15sZmlsZQ%3D%3D?line=17'>18</a>\u001b[0m                     track_width\u001b[39m=\u001b[39;49mtrack_width,\n\u001b[0;32m     <a href='vscode-notebook-cell:/c%3A/Users/Takuya/GitHub/KiCad-draw/examples/kicad_helix_coil.ipynb#X15sZmlsZQ%3D%3D?line=18'>19</a>\u001b[0m                     connect_width\u001b[39m=\u001b[39;49mconnect_width,\n\u001b[0;32m     <a href='vscode-notebook-cell:/c%3A/Users/Takuya/GitHub/KiCad-draw/examples/kicad_helix_coil.ipynb#X15sZmlsZQ%3D%3D?line=19'>20</a>\u001b[0m                     port_gap\u001b[39m=\u001b[39;49mport_gap,\n\u001b[0;32m     <a href='vscode-notebook-cell:/c%3A/Users/Takuya/GitHub/KiCad-draw/examples/kicad_helix_coil.ipynb#X15sZmlsZQ%3D%3D?line=20'>21</a>\u001b[0m                     net_number\u001b[39m=\u001b[39;49mnetnumber,\n\u001b[0;32m     <a href='vscode-notebook-cell:/c%3A/Users/Takuya/GitHub/KiCad-draw/examples/kicad_helix_coil.ipynb#X15sZmlsZQ%3D%3D?line=21'>22</a>\u001b[0m                     drill_size\u001b[39m=\u001b[39;49mdrill_size,\n\u001b[0;32m     <a href='vscode-notebook-cell:/c%3A/Users/Takuya/GitHub/KiCad-draw/examples/kicad_helix_coil.ipynb#X15sZmlsZQ%3D%3D?line=22'>23</a>\u001b[0m                     via_size\u001b[39m=\u001b[39;49mvia_size,\n\u001b[0;32m     <a href='vscode-notebook-cell:/c%3A/Users/Takuya/GitHub/KiCad-draw/examples/kicad_helix_coil.ipynb#X15sZmlsZQ%3D%3D?line=23'>24</a>\u001b[0m                     tab_gap\u001b[39m=\u001b[39;49mtab_gap,\n\u001b[0;32m     <a href='vscode-notebook-cell:/c%3A/Users/Takuya/GitHub/KiCad-draw/examples/kicad_helix_coil.ipynb#X15sZmlsZQ%3D%3D?line=24'>25</a>\u001b[0m                     angle_step\u001b[39m=\u001b[39;49mangle_step,\n\u001b[0;32m     <a href='vscode-notebook-cell:/c%3A/Users/Takuya/GitHub/KiCad-draw/examples/kicad_helix_coil.ipynb#X15sZmlsZQ%3D%3D?line=25'>26</a>\u001b[0m                     layer_index_list\u001b[39m=\u001b[39;49mlayerindexlist)\n",
            "File \u001b[1;32m~\\GitHub\\KiCad-draw\\kicad_draw\\PCBmodule.py:214\u001b[0m, in \u001b[0;36mPCBdraw.draw_helix\u001b[1;34m(self, x0, y0, radius, port_gap, tab_gap, angle_step, layer_index_list, track_width, connect_width, drill_size, via_size, net_number, tab_position, base_angle_offset, segment_number)\u001b[0m\n\u001b[0;32m    206\u001b[0m     PCBdraw\u001b[39m.\u001b[39mdrawline (x1\u001b[39m=\u001b[39mx1_bottom,\n\u001b[0;32m    207\u001b[0m                     y1\u001b[39m=\u001b[39my1_bottom,\n\u001b[0;32m    208\u001b[0m                     x2\u001b[39m=\u001b[39mx2_bottom,\n\u001b[1;32m   (...)\u001b[0m\n\u001b[0;32m    211\u001b[0m                     layer_index\u001b[39m=\u001b[39mlayer_index_list[turn]\n\u001b[0;32m    212\u001b[0m                     )\n\u001b[0;32m    213\u001b[0m \u001b[39mif\u001b[39;00m turn \u001b[39m!=\u001b[39m \u001b[39mlen\u001b[39m(layer_index_list) \u001b[39m-\u001b[39m \u001b[39m1\u001b[39m:\n\u001b[1;32m--> 214\u001b[0m     PCBdraw\u001b[39m.\u001b[39;49mdrawline (x1\u001b[39m=\u001b[39;49mx1_top,\n\u001b[0;32m    215\u001b[0m                     y1\u001b[39m=\u001b[39;49my1_top,\n\u001b[0;32m    216\u001b[0m                     x2\u001b[39m=\u001b[39;49mx2_top,\n\u001b[0;32m    217\u001b[0m                     y2\u001b[39m=\u001b[39;49my2_top,\n\u001b[0;32m    218\u001b[0m                     line_width\u001b[39m=\u001b[39;49mconnect_width,\n\u001b[0;32m    219\u001b[0m                     layer_index\u001b[39m=\u001b[39;49mlayer_index_list[turn])\n\u001b[0;32m    220\u001b[0m     \u001b[39mself\u001b[39m\u001b[39m.\u001b[39mdraw_via(x\u001b[39m=\u001b[39mx2_top,\n\u001b[0;32m    221\u001b[0m                   y\u001b[39m=\u001b[39my2_top,\n\u001b[0;32m    222\u001b[0m                   drill_size\u001b[39m=\u001b[39mdrill_size,\n\u001b[1;32m   (...)\u001b[0m\n\u001b[0;32m    226\u001b[0m                   net_number\u001b[39m=\u001b[39mnet_number\n\u001b[0;32m    227\u001b[0m                   )\n",
            "\u001b[1;31mTypeError\u001b[0m: PCBdraw.drawline() missing 2 required positional arguments: 'self' and 'net_number'"
          ]
        }
      ],
      "source": [
        "Center = [150, 100]\n",
        "track_width = 0.5\n",
        "connect_width = 0.2\n",
        "radius=11\n",
        "port_gap=0.65\n",
        "tab_gap=0.55\n",
        "via_size=0.4\n",
        "drill_size=0.2\n",
        "angle_step=0\n",
        "Nelement=100\n",
        "layerindexlist=[0,1,2,3,4,5]\n",
        "netnumber=1 # find from KiCad PCB file\n",
        "\n",
        "kicad_draw = PCBdraw(stackup='default_6layer')\n",
        "kicad_draw.draw_helix(x0=Center[0],\n",
        "                    y0=Center[1],\n",
        "                    radius=radius,\n",
        "                    track_width=track_width,\n",
        "                    connect_width=connect_width,\n",
        "                    port_gap=port_gap,\n",
        "                    net_number=netnumber,\n",
        "                    drill_size=drill_size,\n",
        "                    via_size=via_size,\n",
        "                    tab_gap=tab_gap,\n",
        "                    angle_step=angle_step,\n",
        "                    layer_index_list=layerindexlist)"
      ]
    },
    {
      "cell_type": "code",
      "execution_count": null,
      "metadata": {},
      "outputs": [],
      "source": []
    }
  ],
  "metadata": {
    "colab": {
      "include_colab_link": true,
      "provenance": []
    },
    "kernelspec": {
      "display_name": "base",
      "language": "python",
      "name": "python3"
    },
    "language_info": {
      "codemirror_mode": {
        "name": "ipython",
        "version": 3
      },
      "file_extension": ".py",
      "mimetype": "text/x-python",
      "name": "python",
      "nbconvert_exporter": "python",
      "pygments_lexer": "ipython3",
      "version": "3.11.6"
    },
    "orig_nbformat": 4,
    "vscode": {
      "interpreter": {
        "hash": "b84e72b86d3c87ace3b633d3ff778dfa95ae8955c62c36fb54c04442d2ad7f88"
      }
    }
  },
  "nbformat": 4,
  "nbformat_minor": 0
}
